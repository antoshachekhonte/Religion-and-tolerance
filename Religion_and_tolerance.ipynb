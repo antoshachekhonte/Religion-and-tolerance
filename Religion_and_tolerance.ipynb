{
 "cells": [
  {
   "cell_type": "markdown",
   "metadata": {},
   "source": [
    "# Religion and tolerance"
   ]
  },
  {
   "cell_type": "code",
   "execution_count": 278,
   "metadata": {
    "collapsed": true
   },
   "outputs": [],
   "source": [
    "import numpy as np\n",
    "import pandas as pd"
   ]
  },
  {
   "cell_type": "code",
   "execution_count": 279,
   "metadata": {
    "collapsed": true
   },
   "outputs": [],
   "source": [
    "gss = pd.read_excel('/Users/antoshachekhonte/Downloads/GSS.XLSX')"
   ]
  },
  {
   "cell_type": "code",
   "execution_count": 280,
   "metadata": {},
   "outputs": [
    {
     "data": {
      "text/html": [
       "<div>\n",
       "<style>\n",
       "    .dataframe thead tr:only-child th {\n",
       "        text-align: right;\n",
       "    }\n",
       "\n",
       "    .dataframe thead th {\n",
       "        text-align: left;\n",
       "    }\n",
       "\n",
       "    .dataframe tbody tr th {\n",
       "        vertical-align: top;\n",
       "    }\n",
       "</style>\n",
       "<table border=\"1\" class=\"dataframe\">\n",
       "  <thead>\n",
       "    <tr style=\"text-align: right;\">\n",
       "      <th></th>\n",
       "      <th>YEAR</th>\n",
       "      <th>ID</th>\n",
       "      <th>WRKSTAT</th>\n",
       "      <th>HRS1</th>\n",
       "      <th>HRS2</th>\n",
       "      <th>EVWORK</th>\n",
       "      <th>WRKSLF</th>\n",
       "      <th>WRKGOVT</th>\n",
       "      <th>OCC10</th>\n",
       "      <th>PRESTG10</th>\n",
       "      <th>...</th>\n",
       "      <th>WTSSNR</th>\n",
       "      <th>WTSSALL</th>\n",
       "      <th>VSTRAT</th>\n",
       "      <th>VPSU</th>\n",
       "      <th>I_AGE</th>\n",
       "      <th>I_ATTEND</th>\n",
       "      <th>I_POLITICS</th>\n",
       "      <th>I_RACE</th>\n",
       "      <th>I_RELIGION</th>\n",
       "      <th>I_SEX</th>\n",
       "    </tr>\n",
       "  </thead>\n",
       "  <tbody>\n",
       "    <tr>\n",
       "      <th>0</th>\n",
       "      <td>2016</td>\n",
       "      <td>1</td>\n",
       "      <td>1</td>\n",
       "      <td>50</td>\n",
       "      <td>-1</td>\n",
       "      <td>0</td>\n",
       "      <td>2</td>\n",
       "      <td>2</td>\n",
       "      <td>1020</td>\n",
       "      <td>60</td>\n",
       "      <td>...</td>\n",
       "      <td>1.260478</td>\n",
       "      <td>0.956994</td>\n",
       "      <td>3201</td>\n",
       "      <td>1</td>\n",
       "      <td>3.0</td>\n",
       "      <td>1.0</td>\n",
       "      <td>3.0</td>\n",
       "      <td>1</td>\n",
       "      <td>4.0</td>\n",
       "      <td>1</td>\n",
       "    </tr>\n",
       "    <tr>\n",
       "      <th>1</th>\n",
       "      <td>2016</td>\n",
       "      <td>2</td>\n",
       "      <td>1</td>\n",
       "      <td>42</td>\n",
       "      <td>-1</td>\n",
       "      <td>0</td>\n",
       "      <td>2</td>\n",
       "      <td>2</td>\n",
       "      <td>8030</td>\n",
       "      <td>40</td>\n",
       "      <td>...</td>\n",
       "      <td>0.630239</td>\n",
       "      <td>0.478497</td>\n",
       "      <td>3201</td>\n",
       "      <td>1</td>\n",
       "      <td>4.0</td>\n",
       "      <td>1.0</td>\n",
       "      <td>1.0</td>\n",
       "      <td>1</td>\n",
       "      <td>4.0</td>\n",
       "      <td>1</td>\n",
       "    </tr>\n",
       "    <tr>\n",
       "      <th>2</th>\n",
       "      <td>2016</td>\n",
       "      <td>3</td>\n",
       "      <td>5</td>\n",
       "      <td>-1</td>\n",
       "      <td>-1</td>\n",
       "      <td>1</td>\n",
       "      <td>2</td>\n",
       "      <td>2</td>\n",
       "      <td>7020</td>\n",
       "      <td>38</td>\n",
       "      <td>...</td>\n",
       "      <td>1.260478</td>\n",
       "      <td>0.956994</td>\n",
       "      <td>3201</td>\n",
       "      <td>1</td>\n",
       "      <td>4.0</td>\n",
       "      <td>6.0</td>\n",
       "      <td>5.0</td>\n",
       "      <td>1</td>\n",
       "      <td>2.0</td>\n",
       "      <td>1</td>\n",
       "    </tr>\n",
       "    <tr>\n",
       "      <th>3</th>\n",
       "      <td>2016</td>\n",
       "      <td>4</td>\n",
       "      <td>2</td>\n",
       "      <td>30</td>\n",
       "      <td>-1</td>\n",
       "      <td>0</td>\n",
       "      <td>2</td>\n",
       "      <td>2</td>\n",
       "      <td>4600</td>\n",
       "      <td>35</td>\n",
       "      <td>...</td>\n",
       "      <td>2.520956</td>\n",
       "      <td>1.913987</td>\n",
       "      <td>3201</td>\n",
       "      <td>1</td>\n",
       "      <td>2.0</td>\n",
       "      <td>5.0</td>\n",
       "      <td>3.0</td>\n",
       "      <td>1</td>\n",
       "      <td>2.0</td>\n",
       "      <td>2</td>\n",
       "    </tr>\n",
       "    <tr>\n",
       "      <th>4</th>\n",
       "      <td>2016</td>\n",
       "      <td>5</td>\n",
       "      <td>2</td>\n",
       "      <td>5</td>\n",
       "      <td>-1</td>\n",
       "      <td>0</td>\n",
       "      <td>2</td>\n",
       "      <td>2</td>\n",
       "      <td>4760</td>\n",
       "      <td>31</td>\n",
       "      <td>...</td>\n",
       "      <td>1.890717</td>\n",
       "      <td>1.435490</td>\n",
       "      <td>3201</td>\n",
       "      <td>1</td>\n",
       "      <td>3.0</td>\n",
       "      <td>1.0</td>\n",
       "      <td>2.0</td>\n",
       "      <td>1</td>\n",
       "      <td>4.0</td>\n",
       "      <td>2</td>\n",
       "    </tr>\n",
       "  </tbody>\n",
       "</table>\n",
       "<p>5 rows × 948 columns</p>\n",
       "</div>"
      ],
      "text/plain": [
       "   YEAR  ID  WRKSTAT  HRS1  HRS2  EVWORK  WRKSLF  WRKGOVT  OCC10  PRESTG10  \\\n",
       "0  2016   1        1    50    -1       0       2        2   1020        60   \n",
       "1  2016   2        1    42    -1       0       2        2   8030        40   \n",
       "2  2016   3        5    -1    -1       1       2        2   7020        38   \n",
       "3  2016   4        2    30    -1       0       2        2   4600        35   \n",
       "4  2016   5        2     5    -1       0       2        2   4760        31   \n",
       "\n",
       "   ...      WTSSNR   WTSSALL  VSTRAT  VPSU  I_AGE  I_ATTEND  I_POLITICS  \\\n",
       "0  ...    1.260478  0.956994    3201     1    3.0       1.0         3.0   \n",
       "1  ...    0.630239  0.478497    3201     1    4.0       1.0         1.0   \n",
       "2  ...    1.260478  0.956994    3201     1    4.0       6.0         5.0   \n",
       "3  ...    2.520956  1.913987    3201     1    2.0       5.0         3.0   \n",
       "4  ...    1.890717  1.435490    3201     1    3.0       1.0         2.0   \n",
       "\n",
       "   I_RACE  I_RELIGION  I_SEX  \n",
       "0       1         4.0      1  \n",
       "1       1         4.0      1  \n",
       "2       1         2.0      1  \n",
       "3       1         2.0      2  \n",
       "4       1         4.0      2  \n",
       "\n",
       "[5 rows x 948 columns]"
      ]
     },
     "execution_count": 280,
     "metadata": {},
     "output_type": "execute_result"
    }
   ],
   "source": [
    "gss.head()"
   ]
  },
  {
   "cell_type": "markdown",
   "metadata": {},
   "source": [
    "## Subsetting relevant variables\n",
    "Explanatory variables:\n",
    "1. God - respondent's belief in God\n",
    "2. Savesoul - whether respondent has encouraged somebody to believe in Jesus\n",
    "3. Reppersn - level of religiosity\n",
    "4. Attend - frequency of religious service attendance \n",
    "5. Fund - fundamentalism / liberalism of respondent's religion\n",
    "6. Pray - prayer frequency\n",
    "7. Polviews - political views\n",
    "8. Sex\n",
    "9. Educ\n",
    "10. Sprel - spouse's religious preference\n",
    "11. Spfund - fundamentalism of spouse\n",
    "12. Bible - belief in bible\n",
    "\n",
    "Target variables:\n",
    "1. MARBLK - would you be in favor of having a close relation marry a black person\n",
    "2. Homosex - permissibility of same-sex sexual relations "
   ]
  },
  {
   "cell_type": "code",
   "execution_count": 281,
   "metadata": {
    "collapsed": true
   },
   "outputs": [],
   "source": [
    "gss_sub = gss[['GOD', 'SAVESOUL', 'RELPERSN', 'ATTEND', 'FUND', \\\n",
    "               'PRAY', 'POLVIEWS', 'SEX', 'EDUC', 'SPFUND', \\\n",
    "               'BIBLE', 'MARBLK', 'HOMOSEX', 'AGE']]"
   ]
  },
  {
   "cell_type": "code",
   "execution_count": 282,
   "metadata": {
    "scrolled": true
   },
   "outputs": [
    {
     "data": {
      "text/html": [
       "<div>\n",
       "<style>\n",
       "    .dataframe thead tr:only-child th {\n",
       "        text-align: right;\n",
       "    }\n",
       "\n",
       "    .dataframe thead th {\n",
       "        text-align: left;\n",
       "    }\n",
       "\n",
       "    .dataframe tbody tr th {\n",
       "        vertical-align: top;\n",
       "    }\n",
       "</style>\n",
       "<table border=\"1\" class=\"dataframe\">\n",
       "  <thead>\n",
       "    <tr style=\"text-align: right;\">\n",
       "      <th></th>\n",
       "      <th>GOD</th>\n",
       "      <th>SAVESOUL</th>\n",
       "      <th>RELPERSN</th>\n",
       "      <th>ATTEND</th>\n",
       "      <th>FUND</th>\n",
       "      <th>PRAY</th>\n",
       "      <th>POLVIEWS</th>\n",
       "      <th>SEX</th>\n",
       "      <th>EDUC</th>\n",
       "      <th>SPFUND</th>\n",
       "      <th>BIBLE</th>\n",
       "      <th>MARBLK</th>\n",
       "      <th>HOMOSEX</th>\n",
       "      <th>AGE</th>\n",
       "    </tr>\n",
       "  </thead>\n",
       "  <tbody>\n",
       "    <tr>\n",
       "      <th>0</th>\n",
       "      <td>2</td>\n",
       "      <td>2</td>\n",
       "      <td>4</td>\n",
       "      <td>0</td>\n",
       "      <td>3</td>\n",
       "      <td>6</td>\n",
       "      <td>4</td>\n",
       "      <td>1</td>\n",
       "      <td>16</td>\n",
       "      <td>3</td>\n",
       "      <td>3</td>\n",
       "      <td>3</td>\n",
       "      <td>4</td>\n",
       "      <td>47</td>\n",
       "    </tr>\n",
       "    <tr>\n",
       "      <th>1</th>\n",
       "      <td>8</td>\n",
       "      <td>2</td>\n",
       "      <td>4</td>\n",
       "      <td>0</td>\n",
       "      <td>3</td>\n",
       "      <td>6</td>\n",
       "      <td>2</td>\n",
       "      <td>1</td>\n",
       "      <td>12</td>\n",
       "      <td>0</td>\n",
       "      <td>3</td>\n",
       "      <td>1</td>\n",
       "      <td>0</td>\n",
       "      <td>61</td>\n",
       "    </tr>\n",
       "    <tr>\n",
       "      <th>2</th>\n",
       "      <td>6</td>\n",
       "      <td>2</td>\n",
       "      <td>1</td>\n",
       "      <td>7</td>\n",
       "      <td>2</td>\n",
       "      <td>1</td>\n",
       "      <td>6</td>\n",
       "      <td>1</td>\n",
       "      <td>16</td>\n",
       "      <td>2</td>\n",
       "      <td>1</td>\n",
       "      <td>0</td>\n",
       "      <td>4</td>\n",
       "      <td>72</td>\n",
       "    </tr>\n",
       "    <tr>\n",
       "      <th>3</th>\n",
       "      <td>6</td>\n",
       "      <td>2</td>\n",
       "      <td>2</td>\n",
       "      <td>6</td>\n",
       "      <td>2</td>\n",
       "      <td>3</td>\n",
       "      <td>4</td>\n",
       "      <td>2</td>\n",
       "      <td>12</td>\n",
       "      <td>2</td>\n",
       "      <td>2</td>\n",
       "      <td>3</td>\n",
       "      <td>4</td>\n",
       "      <td>43</td>\n",
       "    </tr>\n",
       "    <tr>\n",
       "      <th>4</th>\n",
       "      <td>1</td>\n",
       "      <td>2</td>\n",
       "      <td>4</td>\n",
       "      <td>0</td>\n",
       "      <td>3</td>\n",
       "      <td>6</td>\n",
       "      <td>3</td>\n",
       "      <td>2</td>\n",
       "      <td>18</td>\n",
       "      <td>3</td>\n",
       "      <td>3</td>\n",
       "      <td>0</td>\n",
       "      <td>4</td>\n",
       "      <td>55</td>\n",
       "    </tr>\n",
       "  </tbody>\n",
       "</table>\n",
       "</div>"
      ],
      "text/plain": [
       "   GOD  SAVESOUL  RELPERSN  ATTEND  FUND  PRAY  POLVIEWS  SEX  EDUC  SPFUND  \\\n",
       "0    2         2         4       0     3     6         4    1    16       3   \n",
       "1    8         2         4       0     3     6         2    1    12       0   \n",
       "2    6         2         1       7     2     1         6    1    16       2   \n",
       "3    6         2         2       6     2     3         4    2    12       2   \n",
       "4    1         2         4       0     3     6         3    2    18       3   \n",
       "\n",
       "   BIBLE  MARBLK  HOMOSEX  AGE  \n",
       "0      3       3        4   47  \n",
       "1      3       1        0   61  \n",
       "2      1       0        4   72  \n",
       "3      2       3        4   43  \n",
       "4      3       0        4   55  "
      ]
     },
     "execution_count": 282,
     "metadata": {},
     "output_type": "execute_result"
    }
   ],
   "source": [
    "gss_sub.head()"
   ]
  },
  {
   "cell_type": "code",
   "execution_count": 283,
   "metadata": {
    "collapsed": true
   },
   "outputs": [],
   "source": [
    "gss_sub = gss_sub[(gss_sub['GOD'] != 8) & (gss_sub['GOD'] != 9)\\\n",
    "                  & (gss_sub['SAVESOUL'] != 8) & (gss_sub['SAVESOUL'] != 9)\\\n",
    "                  & (gss_sub['RELPERSN'] != 8) & (gss_sub['RELPERSN'] != 9)\\\n",
    "                  & (gss_sub['ATTEND'] != 8) & (gss_sub['ATTEND'] != 9)\\\n",
    "                  & (gss_sub['FUND'] != 9)\\\n",
    "                  & (gss_sub['PRAY'] != 8) & (gss_sub['PRAY'] != 9)\\\n",
    "                  & (gss_sub['POLVIEWS'] != 8) & (gss_sub['POLVIEWS'] != 9)\\\n",
    "                  & (gss_sub['EDUC'] != 98) & (gss_sub['PRAY'] != 99)\\\n",
    "                  & (gss_sub['SPFUND'] != 9) & (gss_sub['SPFUND'] != 0)\\\n",
    "                  & (gss_sub['BIBLE'] != 8) & (gss_sub['BIBLE'] != 9) & (gss_sub['BIBLE'] != 4)\\\n",
    "                  & (gss_sub['MARBLK'] != 8) & (gss_sub['MARBLK'] != 9)]"
   ]
  },
  {
   "cell_type": "code",
   "execution_count": 284,
   "metadata": {},
   "outputs": [
    {
     "data": {
      "text/plain": [
       "(964, 14)"
      ]
     },
     "execution_count": 284,
     "metadata": {},
     "output_type": "execute_result"
    }
   ],
   "source": [
    "gss_sub.shape"
   ]
  },
  {
   "cell_type": "code",
   "execution_count": 285,
   "metadata": {
    "collapsed": true
   },
   "outputs": [],
   "source": [
    "# reverse coding\n",
    "gss_sub.loc[gss_sub['HOMOSEX'] == 1, 'HOMOSEX_RECODED'] = 4\n",
    "gss_sub.loc[gss_sub['HOMOSEX'] == 2, 'HOMOSEX_RECODED'] = 3\n",
    "gss_sub.loc[gss_sub['HOMOSEX'] == 3, 'HOMOSEX_RECODED'] = 2\n",
    "gss_sub.loc[gss_sub['HOMOSEX'] == 4, 'HOMOSEX_RECODED'] = 1"
   ]
  },
  {
   "cell_type": "code",
   "execution_count": 286,
   "metadata": {
    "collapsed": true
   },
   "outputs": [],
   "source": [
    "# reverse coding\n",
    "gss_sub.loc[gss_sub['SAVESOUL'] == 1, 'SAVESOUL_RECODED'] = 2\n",
    "gss_sub.loc[gss_sub['SAVESOUL'] == 2, 'SAVESOUL_RECODED'] = 1"
   ]
  },
  {
   "cell_type": "code",
   "execution_count": 287,
   "metadata": {
    "collapsed": true
   },
   "outputs": [],
   "source": [
    "# reverse coding\n",
    "gss_sub.loc[gss_sub['RELPERSN'] == 1, 'RELPERSN_RECODED'] = 4\n",
    "gss_sub.loc[gss_sub['RELPERSN'] == 2, 'RELPERSN_RECODED'] = 3\n",
    "gss_sub.loc[gss_sub['RELPERSN'] == 3, 'RELPERSN_RECODED'] = 2\n",
    "gss_sub.loc[gss_sub['RELPERSN'] == 4, 'RELPERSN_RECODED'] = 1"
   ]
  },
  {
   "cell_type": "code",
   "execution_count": 288,
   "metadata": {
    "collapsed": true
   },
   "outputs": [],
   "source": [
    "# reverse coding\n",
    "gss_sub.loc[gss_sub['FUND'] == 1, 'FUND_RECODED'] = 3\n",
    "gss_sub.loc[gss_sub['FUND'] == 2, 'FUND_RECODED'] = 2\n",
    "gss_sub.loc[gss_sub['FUND'] == 3, 'FUND_RECODED'] = 1"
   ]
  },
  {
   "cell_type": "code",
   "execution_count": 289,
   "metadata": {
    "collapsed": true
   },
   "outputs": [],
   "source": [
    "# reverse coding\n",
    "gss_sub.loc[gss_sub['PRAY'] == 1, 'PRAY_RECODED'] = 6\n",
    "gss_sub.loc[gss_sub['PRAY'] == 2, 'PRAY_RECODED'] = 5\n",
    "gss_sub.loc[gss_sub['PRAY'] == 3, 'PRAY_RECODED'] = 4\n",
    "gss_sub.loc[gss_sub['PRAY'] == 4, 'PRAY_RECODED'] = 3\n",
    "gss_sub.loc[gss_sub['PRAY'] == 5, 'PRAY_RECODED'] = 2\n",
    "gss_sub.loc[gss_sub['PRAY'] == 6, 'PRAY_RECODED'] = 1"
   ]
  },
  {
   "cell_type": "code",
   "execution_count": 290,
   "metadata": {
    "collapsed": true
   },
   "outputs": [],
   "source": [
    "# reverse coding\n",
    "gss_sub.loc[gss_sub['SPFUND'] == 1, 'SPFUND_RECODED'] = 3\n",
    "gss_sub.loc[gss_sub['SPFUND'] == 2, 'SPFUND_RECODED'] = 2\n",
    "gss_sub.loc[gss_sub['SPFUND'] == 3, 'SPFUND_RECODED'] = 1"
   ]
  },
  {
   "cell_type": "code",
   "execution_count": 291,
   "metadata": {
    "collapsed": true
   },
   "outputs": [],
   "source": [
    "# reverse coding\n",
    "gss_sub.loc[gss_sub['BIBLE'] == 1, 'BIBLE_RECODED'] = 3\n",
    "gss_sub.loc[gss_sub['BIBLE'] == 2, 'BIBLE_RECODED'] = 2\n",
    "gss_sub.loc[gss_sub['BIBLE'] == 3, 'BIBLE_RECODED'] = 1"
   ]
  },
  {
   "cell_type": "code",
   "execution_count": 292,
   "metadata": {
    "collapsed": true
   },
   "outputs": [],
   "source": [
    "# creating duplicate for safety\n",
    "gss_sub_dup = gss_sub"
   ]
  },
  {
   "cell_type": "markdown",
   "metadata": {},
   "source": [
    "## Hypothesis\n",
    "There is a causal relationship between religiosity and tolerance. "
   ]
  },
  {
   "cell_type": "markdown",
   "metadata": {},
   "source": [
    "## Preliminary analysis\n",
    "Let's start off by seeing how our explanatory variables correlate with the outcome variable."
   ]
  },
  {
   "cell_type": "code",
   "execution_count": 293,
   "metadata": {
    "collapsed": true
   },
   "outputs": [],
   "source": [
    "# GOD"
   ]
  },
  {
   "cell_type": "code",
   "execution_count": 294,
   "metadata": {},
   "outputs": [
    {
     "data": {
      "text/plain": [
       "GOD\n",
       "1     30\n",
       "2     69\n",
       "3    104\n",
       "4     34\n",
       "5    175\n",
       "6    552\n",
       "dtype: int64"
      ]
     },
     "execution_count": 294,
     "metadata": {},
     "output_type": "execute_result"
    }
   ],
   "source": [
    "gss_sub.groupby('GOD').size()"
   ]
  },
  {
   "cell_type": "code",
   "execution_count": 295,
   "metadata": {},
   "outputs": [
    {
     "data": {
      "text/plain": [
       "GOD\n",
       "1    2.888889\n",
       "2    2.756098\n",
       "3    2.535211\n",
       "4    2.900000\n",
       "5    2.862385\n",
       "6    2.652174\n",
       "Name: MARBLK, dtype: float64"
      ]
     },
     "execution_count": 295,
     "metadata": {},
     "output_type": "execute_result"
    }
   ],
   "source": [
    "gss_sub[gss_sub['MARBLK'] != 0].groupby('GOD').MARBLK.mean()"
   ]
  },
  {
   "cell_type": "code",
   "execution_count": 296,
   "metadata": {},
   "outputs": [
    {
     "data": {
      "text/plain": [
       "GOD\n",
       "1    1.619048\n",
       "2    1.580000\n",
       "3    1.333333\n",
       "4    1.625000\n",
       "5    1.752294\n",
       "6    2.804408\n",
       "Name: HOMOSEX_RECODED, dtype: float64"
      ]
     },
     "execution_count": 296,
     "metadata": {},
     "output_type": "execute_result"
    }
   ],
   "source": [
    "gss_sub[gss_sub['HOMOSEX'] != 0].groupby('GOD').HOMOSEX_RECODED.mean()"
   ]
  },
  {
   "cell_type": "code",
   "execution_count": 297,
   "metadata": {
    "collapsed": true
   },
   "outputs": [],
   "source": [
    "# RELPERSN"
   ]
  },
  {
   "cell_type": "code",
   "execution_count": 298,
   "metadata": {},
   "outputs": [
    {
     "data": {
      "text/plain": [
       "RELPERSN_RECODED\n",
       "1.0    190\n",
       "2.0    210\n",
       "3.0    407\n",
       "4.0    157\n",
       "dtype: int64"
      ]
     },
     "execution_count": 298,
     "metadata": {},
     "output_type": "execute_result"
    }
   ],
   "source": [
    "gss_sub.groupby('RELPERSN_RECODED').size()"
   ]
  },
  {
   "cell_type": "code",
   "execution_count": 299,
   "metadata": {},
   "outputs": [
    {
     "data": {
      "text/plain": [
       "RELPERSN_RECODED\n",
       "1.0    2.569106\n",
       "2.0    2.793893\n",
       "3.0    2.735507\n",
       "4.0    2.618557\n",
       "Name: MARBLK, dtype: float64"
      ]
     },
     "execution_count": 299,
     "metadata": {},
     "output_type": "execute_result"
    }
   ],
   "source": [
    "gss_sub[gss_sub['MARBLK'] != 0].groupby('RELPERSN_RECODED').MARBLK.mean()"
   ]
  },
  {
   "cell_type": "code",
   "execution_count": 300,
   "metadata": {},
   "outputs": [
    {
     "data": {
      "text/plain": [
       "RELPERSN_RECODED\n",
       "1.0    1.433071\n",
       "2.0    1.822222\n",
       "3.0    2.590734\n",
       "4.0    3.174312\n",
       "Name: HOMOSEX_RECODED, dtype: float64"
      ]
     },
     "execution_count": 300,
     "metadata": {},
     "output_type": "execute_result"
    }
   ],
   "source": [
    "gss_sub[gss_sub['HOMOSEX'] != 0].groupby('RELPERSN_RECODED').HOMOSEX_RECODED.mean()"
   ]
  },
  {
   "cell_type": "markdown",
   "metadata": {},
   "source": [
    "## Building the explanatory variable\n",
    "\n",
    "I shall attempt to build a measure of religiosity using the variables: GOD, SAVESOUL, RELPERSN, ATTEND, FUND, PRAY, SPREL, SPFUND, BIBLE"
   ]
  },
  {
   "cell_type": "code",
   "execution_count": 301,
   "metadata": {
    "collapsed": true
   },
   "outputs": [],
   "source": [
    "explanatory_var = gss_sub[['GOD', 'SAVESOUL_RECODED', 'RELPERSN_RECODED', 'ATTEND', 'FUND_RECODED', \\\n",
    "                           'PRAY_RECODED', 'SPFUND_RECODED', 'BIBLE_RECODED']]"
   ]
  },
  {
   "cell_type": "code",
   "execution_count": 302,
   "metadata": {},
   "outputs": [
    {
     "data": {
      "text/plain": [
       "<matplotlib.axes._subplots.AxesSubplot at 0x1a26ff9b00>"
      ]
     },
     "execution_count": 302,
     "metadata": {},
     "output_type": "execute_result"
    },
    {
     "data": {
      "image/png": "[encoded data removed]",
      "text/plain": [
       "<matplotlib.figure.Figure at 0x1a26fde5c0>"
      ]
     },
     "metadata": {},
     "output_type": "display_data"
    }
   ],
   "source": [
    "%matplotlib inline\n",
    "import seaborn as sns\n",
    "corr = explanatory_var.corr()\n",
    "sns.heatmap(corr, xticklabels=corr.columns, yticklabels=corr.columns)"
   ]
  },
  {
   "cell_type": "code",
   "execution_count": 303,
   "metadata": {},
   "outputs": [
    {
     "data": {
      "text/plain": [
       "(964, 3)"
      ]
     },
     "execution_count": 303,
     "metadata": {},
     "output_type": "execute_result"
    }
   ],
   "source": [
    "from sklearn.decomposition import FactorAnalysis\n",
    "transformer = FactorAnalysis(n_components = 3, random_state = 0)\n",
    "explanatory_var_transformed = transformer.fit_transform(explanatory_var)\n",
    "explanatory_var_transformed.shape"
   ]
  },
  {
   "cell_type": "code",
   "execution_count": 304,
   "metadata": {},
   "outputs": [
    {
     "name": "stdout",
     "output_type": "stream",
     "text": [
      "the variance explained by the first factor is 80.58588443437463\n",
      "the variance explained by the second factor is 13.62823115983241\n",
      "the variance explained by the third factor is 5.785884405792952\n"
     ]
    }
   ],
   "source": [
    "# what is the explained variance?\n",
    "m = transformer.components_\n",
    "n = transformer.noise_variance_\n",
    "m1 = m**2\n",
    "m2 = np.sum(m1, axis=1)\n",
    "pvar1 = (100*m2[0])/np.sum(m2)\n",
    "pvar2 = (100*m2[1])/np.sum(m2)\n",
    "pvar3 = (100*m2[2])/np.sum(m2)\n",
    "print('the variance explained by the first factor is', pvar1)\n",
    "print('the variance explained by the second factor is', pvar2)\n",
    "print('the variance explained by the third factor is', pvar3)"
   ]
  },
  {
   "cell_type": "code",
   "execution_count": 305,
   "metadata": {},
   "outputs": [
    {
     "name": "stdout",
     "output_type": "stream",
     "text": [
      "Total explained variance is 100.0\n"
     ]
    }
   ],
   "source": [
    "print('Total explained variance is', pvar1+pvar2+pvar3)"
   ]
  },
  {
   "cell_type": "code",
   "execution_count": 306,
   "metadata": {
    "collapsed": true
   },
   "outputs": [],
   "source": [
    "# adding this to the overall dataframe\n",
    "gss_sub['FIRSTVAR'] = explanatory_var_transformed[:, 0]\n",
    "gss_sub['SECONDVAR'] = explanatory_var_transformed[:, 1]\n",
    "gss_sub['THIRDVAR'] = explanatory_var_transformed[:, 2]"
   ]
  },
  {
   "cell_type": "code",
   "execution_count": 307,
   "metadata": {},
   "outputs": [
    {
     "data": {
      "text/plain": [
       "array([-1.12396264, -0.29621073, -0.76127251, -2.13735438, -0.46616938,\n",
       "       -1.28718258, -0.3578076 , -0.50899615])"
      ]
     },
     "execution_count": 307,
     "metadata": {},
     "output_type": "execute_result"
    }
   ],
   "source": [
    "transformer.components_[0, :]"
   ]
  },
  {
   "cell_type": "code",
   "execution_count": 308,
   "metadata": {
    "scrolled": true
   },
   "outputs": [
    {
     "data": {
      "text/plain": [
       "DescribeResult(nobs=964, minmax=(-1.5341857802485117, 2.044539414149542), mean=8.844930320665147e-17, variance=0.9292641506111441, skewness=0.3845519752369101, kurtosis=-0.8761730358797837)"
      ]
     },
     "execution_count": 308,
     "metadata": {},
     "output_type": "execute_result"
    }
   ],
   "source": [
    "import scipy.stats\n",
    "scipy.stats.describe(explanatory_var_transformed[:, 0])"
   ]
  },
  {
   "cell_type": "markdown",
   "metadata": {},
   "source": [
    "The primary factor ranges from a min of -1.53 to a max of 2.04 with a variance of 0.92. \n",
    "\n",
    "Looking at the components above, we can see that all the input variables are negatively weighted. This means that the more negative the value of a given datapoint, the higher the religiosity."
   ]
  },
  {
   "cell_type": "markdown",
   "metadata": {},
   "source": [
    "## Analyzing the relationship between the variables of interest\n",
    "\n",
    "Starting off by trying to study the (rough) effect of the primary factor obtained from above."
   ]
  },
  {
   "cell_type": "code",
   "execution_count": 309,
   "metadata": {
    "collapsed": true
   },
   "outputs": [],
   "source": [
    "# Credit to volodymyr, stackexchange contributor\n",
    "from sklearn.preprocessing import StandardScaler\n",
    "from sklearn.neighbors import NearestNeighbors\n",
    "\n",
    "def get_matching_pairs(treated_df, non_treated_df, scaler=True):\n",
    "    treated_x = treated_df.values\n",
    "    non_treated_x = non_treated_df.values\n",
    "    if (scaler==True):\n",
    "        scaler=StandardScaler()\n",
    "    if (scaler):\n",
    "        scaler.fit(treated_x)\n",
    "        treated_x=scaler.transform(treated_x)\n",
    "        non_treated_x=scaler.transform(non_treated_x)\n",
    "    nbrs=NearestNeighbors(n_neighbors=1,algorithm='ball_tree').fit(non_treated_x)\n",
    "    distances,indices=nbrs.kneighbors(treated_x)\n",
    "    indices=indices.reshape(indices.shape[0])\n",
    "    matched = indices\n",
    "    return matched"
   ]
  },
  {
   "cell_type": "markdown",
   "metadata": {},
   "source": [
    "Let's first define 'treated' and 'untreated' groups. Since we are primarily focusing on the primary factor from the factor analysis, let's look at the summary statistics of this variable."
   ]
  },
  {
   "cell_type": "code",
   "execution_count": 310,
   "metadata": {},
   "outputs": [
    {
     "data": {
      "text/plain": [
       "DescribeResult(nobs=964, minmax=(-1.5341857802485117, 2.044539414149542), mean=8.844930320665147e-17, variance=0.9292641506111441, skewness=0.3845519752369101, kurtosis=-0.8761730358797837)"
      ]
     },
     "execution_count": 310,
     "metadata": {},
     "output_type": "execute_result"
    }
   ],
   "source": [
    "scipy.stats.describe(explanatory_var_transformed[:, 0])"
   ]
  },
  {
   "cell_type": "markdown",
   "metadata": {},
   "source": [
    "Looking at the factor loadings in the previous section, we can Let's define the treated observations as those datapoints with the primary more negative than a standard deviation below the mean, and the rest as untreated observations."
   ]
  },
  {
   "cell_type": "code",
   "execution_count": 311,
   "metadata": {
    "collapsed": true
   },
   "outputs": [],
   "source": [
    "mean = scipy.stats.describe(explanatory_var_transformed[:, 0]).mean\n",
    "variance = scipy.stats.describe(explanatory_var_transformed[:, 0]).variance\n",
    "stdev = variance ** (1/2)\n",
    "cutoff = mean - stdev / 2"
   ]
  },
  {
   "cell_type": "code",
   "execution_count": 312,
   "metadata": {
    "collapsed": true
   },
   "outputs": [],
   "source": [
    "# subsetting the treated and the control group\n",
    "treated = gss_sub[gss_sub.FIRSTVAR < cutoff]\n",
    "untreated = gss_sub[gss_sub.FIRSTVAR >= cutoff]"
   ]
  },
  {
   "cell_type": "code",
   "execution_count": 313,
   "metadata": {
    "collapsed": true
   },
   "outputs": [],
   "source": [
    "treated_sub = treated[['GOD','SAVESOUL','RELPERSN','ATTEND','FUND','PRAY',\\\n",
    "               'POLVIEWS','SEX','EDUC','SPFUND','BIBLE',\\\n",
    "               'SAVESOUL_RECODED','RELPERSN_RECODED','FUND_RECODED',\\\n",
    "               'PRAY_RECODED','SPFUND_RECODED','BIBLE_RECODED', 'AGE']]\n",
    "untreated_sub = untreated[['GOD','SAVESOUL','RELPERSN','ATTEND','FUND','PRAY',\\\n",
    "               'POLVIEWS','SEX','EDUC','SPFUND','BIBLE',\\\n",
    "               'SAVESOUL_RECODED','RELPERSN_RECODED','FUND_RECODED',\\\n",
    "               'PRAY_RECODED','SPFUND_RECODED','BIBLE_RECODED', 'AGE']]"
   ]
  },
  {
   "cell_type": "code",
   "execution_count": 314,
   "metadata": {
    "collapsed": true
   },
   "outputs": [],
   "source": [
    "treated_sub = treated[['POLVIEWS','SEX','EDUC', 'AGE']]\n",
    "untreated_sub = untreated[['POLVIEWS','SEX','EDUC', 'AGE']]"
   ]
  },
  {
   "cell_type": "code",
   "execution_count": 315,
   "metadata": {
    "collapsed": true
   },
   "outputs": [],
   "source": [
    "matched_indices = get_matching_pairs(treated_sub, untreated_sub, scaler=False)"
   ]
  },
  {
   "cell_type": "code",
   "execution_count": 316,
   "metadata": {
    "collapsed": true
   },
   "outputs": [],
   "source": [
    "# permissibility of homosexuality"
   ]
  },
  {
   "cell_type": "code",
   "execution_count": 317,
   "metadata": {},
   "outputs": [
    {
     "data": {
      "text/plain": [
       "0.4401114206128134"
      ]
     },
     "execution_count": 317,
     "metadata": {},
     "output_type": "execute_result"
    }
   ],
   "source": [
    "s = 0\n",
    "for i in range(matched_indices.shape[0]):\n",
    "    t = treated.iloc[i].HOMOSEX_RECODED\n",
    "    c = untreated.iloc[matched_indices, :].iloc[i].HOMOSEX_RECODED\n",
    "    if (np.isfinite(t) & np.isfinite(c)):\n",
    "        s += t - c\n",
    "estimated_ATE = s / matched_indices.shape[0]\n",
    "estimated_ATE"
   ]
  },
  {
   "cell_type": "markdown",
   "metadata": {},
   "source": [
    "This estimate is probably still highly biased, because of other unmeasured confounding variables."
   ]
  },
  {
   "cell_type": "code",
   "execution_count": 318,
   "metadata": {
    "collapsed": true
   },
   "outputs": [],
   "source": [
    "# permissibility of marriage w black person"
   ]
  },
  {
   "cell_type": "code",
   "execution_count": 319,
   "metadata": {
    "scrolled": true
   },
   "outputs": [
    {
     "data": {
      "text/plain": [
       "-0.019498607242339833"
      ]
     },
     "execution_count": 319,
     "metadata": {},
     "output_type": "execute_result"
    }
   ],
   "source": [
    "s = 0\n",
    "for i in range(matched_indices.shape[0]):\n",
    "    t = treated.iloc[i].MARBLK\n",
    "    c = untreated.iloc[matched_indices, :].iloc[i].MARBLK\n",
    "    if (np.isfinite(t) & np.isfinite(c)):\n",
    "        s += t - c\n",
    "estimated_ATE = s / matched_indices.shape[0]\n",
    "estimated_ATE"
   ]
  },
  {
   "cell_type": "markdown",
   "metadata": {},
   "source": [
    "This estimate too is probably still highly biased, because of other unmeasured confounding variables."
   ]
  },
  {
   "cell_type": "markdown",
   "metadata": {},
   "source": [
    "## Rough"
   ]
  }
 ],
 "metadata": {
  "kernelspec": {
   "display_name": "Python 3",
   "language": "python",
   "name": "python3"
  },
  "language_info": {
   "codemirror_mode": {
    "name": "ipython",
    "version": 3
   },
   "file_extension": ".py",
   "mimetype": "text/x-python",
   "name": "python",
   "nbconvert_exporter": "python",
   "pygments_lexer": "ipython3",
   "version": "3.6.3"
  }
 },
 "nbformat": 4,
 "nbformat_minor": 2
}
